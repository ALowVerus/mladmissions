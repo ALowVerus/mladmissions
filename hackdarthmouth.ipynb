{
 "cells": [
  {
   "cell_type": "code",
   "execution_count": 2,
   "metadata": {},
   "outputs": [],
   "source": [
    "import numpy as np\n",
    "import pandas as pd\n",
    "import matplotlib.pyplot as plt\n",
    "import math\n",
    "import warnings\n",
    "import seaborn as sns\n",
    "import random\n",
    "from sklearn.datasets import load_iris\n",
    "from imblearn.over_sampling import SMOTE\n",
    "warnings.filterwarnings(\"ignore\")\n",
    "%matplotlib inline"
   ]
  },
  {
   "cell_type": "code",
   "execution_count": 3,
   "metadata": {},
   "outputs": [],
   "source": [
    "data=pd.read_csv(\"navianceScraper/csv.csv\")"
   ]
  },
  {
   "cell_type": "code",
   "execution_count": 5,
   "metadata": {},
   "outputs": [],
   "source": [
    "data['resultCode']=data['resultCode'].apply(lambda x: False if x ==2 else True)"
   ]
  },
  {
   "cell_type": "code",
   "execution_count": 7,
   "metadata": {},
   "outputs": [
    {
     "data": {
      "image/png": "[encoded data removed]",
      "text/plain": [
       "<Figure size 432x288 with 1 Axes>"
      ]
     },
     "metadata": {
      "needs_background": "light"
     },
     "output_type": "display_data"
    }
   ],
   "source": [
    "sns.countplot(\"resultCode\", data=data)\n",
    "plt.show()"
   ]
  },
  {
   "cell_type": "code",
   "execution_count": 9,
   "metadata": {},
   "outputs": [],
   "source": [
    "data = data.drop(data[data.sat2400 <= 0].index)\n",
    "\n",
    "train_y = data.resultCode\n",
    "train_x = pd.DataFrame(data.drop([\"resultCode\", \"type\"], axis=1)).reset_index(drop=True)"
   ]
  },
  {
   "cell_type": "code",
   "execution_count": 17,
   "metadata": {},
   "outputs": [
    {
     "name": "stdout",
     "output_type": "stream",
     "text": [
      "Before OverSampling, counts of label '1': 25\n",
      "Before OverSampling, counts of label '0': 16 \n",
      "\n",
      "After OverSampling, the shape of train_X: (50, 5)\n",
      "After OverSampling, the shape of train_y: (50,) \n",
      "\n",
      "After OverSampling, counts of label '1': 25\n",
      "After OverSampling, counts of label '0': 25\n"
     ]
    }
   ],
   "source": [
    "print(\"Before OverSampling, counts of label '1': {}\".format(sum(train_y==True)))\n",
    "print(\"Before OverSampling, counts of label '0': {} \\n\".format(sum(train_y==False)))\n",
    "\n",
    "sm = SMOTE(random_state=2)\n",
    "x_train_smote, y_train_smote = sm.fit_sample(train_x, train_y.ravel())\n",
    "\n",
    "print('After OverSampling, the shape of train_X: {}'.format(X_train_res.shape))\n",
    "print('After OverSampling, the shape of train_y: {} \\n'.format(y_train_res.shape))\n",
    "\n",
    "print(\"After OverSampling, counts of label '1': {}\".format(sum(y_train_res==True)))\n",
    "print(\"After OverSampling, counts of label '0': {}\".format(sum(y_train_res==False)))"
   ]
  },
  {
   "cell_type": "code",
   "execution_count": 22,
   "metadata": {},
   "outputs": [],
   "source": [
    "x_train_smote=pd.DataFrame(x_train_smote)\n",
    "x_train_smote.columns =['act', 'sats', 'gpa', 'gpa_cumsum', 'sats_concorded']"
   ]
  },
  {
   "cell_type": "code",
   "execution_count": 29,
   "metadata": {},
   "outputs": [
    {
     "data": {
      "text/html": [
       "<div>\n",
       "<style scoped>\n",
       "    .dataframe tbody tr th:only-of-type {\n",
       "        vertical-align: middle;\n",
       "    }\n",
       "\n",
       "    .dataframe tbody tr th {\n",
       "        vertical-align: top;\n",
       "    }\n",
       "\n",
       "    .dataframe thead th {\n",
       "        text-align: right;\n",
       "    }\n",
       "</style>\n",
       "<table border=\"1\" class=\"dataframe\">\n",
       "  <thead>\n",
       "    <tr style=\"text-align: right;\">\n",
       "      <th></th>\n",
       "      <th>act</th>\n",
       "      <th>sats</th>\n",
       "      <th>gpa</th>\n",
       "      <th>gpa_cumsum</th>\n",
       "      <th>sats_concorded</th>\n",
       "    </tr>\n",
       "  </thead>\n",
       "  <tbody>\n",
       "    <tr>\n",
       "      <th>0</th>\n",
       "      <td>21.0</td>\n",
       "      <td>1590.0</td>\n",
       "      <td>3.2844</td>\n",
       "      <td>3.1120</td>\n",
       "      <td>1150.0</td>\n",
       "    </tr>\n",
       "    <tr>\n",
       "      <th>1</th>\n",
       "      <td>21.0</td>\n",
       "      <td>1590.0</td>\n",
       "      <td>3.2844</td>\n",
       "      <td>3.1120</td>\n",
       "      <td>1150.0</td>\n",
       "    </tr>\n",
       "    <tr>\n",
       "      <th>2</th>\n",
       "      <td>0.0</td>\n",
       "      <td>2030.0</td>\n",
       "      <td>3.9161</td>\n",
       "      <td>3.9161</td>\n",
       "      <td>1430.0</td>\n",
       "    </tr>\n",
       "    <tr>\n",
       "      <th>3</th>\n",
       "      <td>0.0</td>\n",
       "      <td>2080.0</td>\n",
       "      <td>4.0000</td>\n",
       "      <td>4.0000</td>\n",
       "      <td>1450.0</td>\n",
       "    </tr>\n",
       "    <tr>\n",
       "      <th>4</th>\n",
       "      <td>0.0</td>\n",
       "      <td>1990.0</td>\n",
       "      <td>2.9241</td>\n",
       "      <td>2.9241</td>\n",
       "      <td>1400.0</td>\n",
       "    </tr>\n",
       "  </tbody>\n",
       "</table>\n",
       "</div>"
      ],
      "text/plain": [
       "    act    sats     gpa  gpa_cumsum  sats_concorded\n",
       "0  21.0  1590.0  3.2844      3.1120          1150.0\n",
       "1  21.0  1590.0  3.2844      3.1120          1150.0\n",
       "2   0.0  2030.0  3.9161      3.9161          1430.0\n",
       "3   0.0  2080.0  4.0000      4.0000          1450.0\n",
       "4   0.0  1990.0  2.9241      2.9241          1400.0"
      ]
     },
     "execution_count": 29,
     "metadata": {},
     "output_type": "execute_result"
    }
   ],
   "source": [
    "x_train_smote.head()"
   ]
  },
  {
   "cell_type": "code",
   "execution_count": null,
   "metadata": {},
   "outputs": [
    {
     "name": "stdout",
     "output_type": "stream",
     "text": [
      "> \u001b[0;32m<ipython-input-35-b26fbed88b17>\u001b[0m(4)\u001b[0;36m<module>\u001b[0;34m()\u001b[0m\n",
      "\u001b[0;32m      3 \u001b[0;31m    \u001b[0;32mimport\u001b[0m \u001b[0mipdb\u001b[0m\u001b[0;34m;\u001b[0m\u001b[0mipdb\u001b[0m\u001b[0;34m.\u001b[0m\u001b[0mset_trace\u001b[0m\u001b[0;34m(\u001b[0m\u001b[0;34m)\u001b[0m\u001b[0;34m\u001b[0m\u001b[0;34m\u001b[0m\u001b[0m\n",
      "\u001b[0m\u001b[0;32m----> 4 \u001b[0;31m    \u001b[0mXi\u001b[0m \u001b[0;34m=\u001b[0m \u001b[0mx_train_smote\u001b[0m\u001b[0;34m[\u001b[0m\u001b[0my_train_smote\u001b[0m\u001b[0;34m==\u001b[0m\u001b[0mtar\u001b[0m\u001b[0;34m]\u001b[0m\u001b[0;34m\u001b[0m\u001b[0;34m\u001b[0m\u001b[0m\n",
      "\u001b[0m\u001b[0;32m      5 \u001b[0;31m\u001b[0;34m\u001b[0m\u001b[0m\n",
      "\u001b[0m\n",
      "ipdb> n\n",
      "> \u001b[0;32m<ipython-input-35-b26fbed88b17>\u001b[0m(6)\u001b[0;36m<module>\u001b[0;34m()\u001b[0m\n",
      "\u001b[0;32m      5 \u001b[0;31m\u001b[0;34m\u001b[0m\u001b[0m\n",
      "\u001b[0m\u001b[0;32m----> 6 \u001b[0;31m    \u001b[0mplt\u001b[0m\u001b[0;34m.\u001b[0m\u001b[0mscatter\u001b[0m\u001b[0;34m(\u001b[0m\u001b[0mXi\u001b[0m\u001b[0;34m[\u001b[0m\u001b[0;34m:\u001b[0m\u001b[0;34m,\u001b[0m\u001b[0;36m1\u001b[0m\u001b[0;34m]\u001b[0m\u001b[0;34m,\u001b[0m \u001b[0mXi\u001b[0m\u001b[0;34m[\u001b[0m\u001b[0;34m:\u001b[0m\u001b[0;34m,\u001b[0m\u001b[0;36m2\u001b[0m\u001b[0;34m]\u001b[0m\u001b[0;34m,\u001b[0m \u001b[0mlabel\u001b[0m\u001b[0;34m=\u001b[0m\u001b[0mtar\u001b[0m\u001b[0;34m)\u001b[0m\u001b[0;34m\u001b[0m\u001b[0;34m\u001b[0m\u001b[0m\n",
      "\u001b[0m\u001b[0;32m      7 \u001b[0;31m\u001b[0mplt\u001b[0m\u001b[0;34m.\u001b[0m\u001b[0mxlabel\u001b[0m\u001b[0;34m(\u001b[0m\u001b[0;34m'Petal length'\u001b[0m\u001b[0;34m)\u001b[0m\u001b[0;34m\u001b[0m\u001b[0;34m\u001b[0m\u001b[0m\n",
      "\u001b[0m\n",
      "ipdb> Xi\n",
      "          act         sats       gpa  gpa_cumsum  sats_concorded\n",
      "4    0.000000  1990.000000  2.924100    2.924100     1400.000000\n",
      "5    0.000000  1710.000000  3.235500    3.235500     1230.000000\n",
      "7    0.000000  1630.000000  3.348200    3.348200     1180.000000\n",
      "9    0.000000  2050.000000  3.045400    3.045400     1440.000000\n",
      "13   0.000000  1640.000000  3.071400    3.071400     1180.000000\n",
      "17   0.000000  1480.000000  3.419100    3.419100     1080.000000\n",
      "19   0.000000  1630.000000  2.903500    2.903500     1180.000000\n",
      "22   0.000000  1790.000000  3.135400    3.135400     1280.000000\n",
      "25   0.000000  1730.000000  3.157800    3.157800     1240.000000\n",
      "27   0.000000  1990.000000  3.434000    3.434000     1400.000000\n",
      "30  26.000000  1950.000000  2.881800    2.881800     1380.000000\n",
      "31   0.000000  1840.000000  3.723200    3.723200     1310.000000\n",
      "33  22.000000  2120.000000  3.483900    3.483900     1480.000000\n",
      "36   0.000000  2080.000000  3.691100    3.691100     1450.000000\n",
      "37   0.000000  1760.000000  4.032100    4.032100     1260.000000\n",
      "38   0.000000  1710.000000  3.608900    3.608900     1230.000000\n",
      "41   0.000000  1725.907027  3.173701    3.173701     1237.953514\n",
      "42   0.000000  2068.578129  3.445263    3.445263     1446.192710\n",
      "43   0.000000  1745.017266  3.905286    3.905286     1251.010360\n",
      "44   0.000000  1658.677909  3.115186    3.115186     1193.341364\n",
      "45   0.000000  1767.268030  3.143887    3.143887     1264.845353\n",
      "46   0.000000  1710.000000  3.411318    3.411318     1230.000000\n",
      "47   0.000000  1716.728997  3.342706    3.342706     1234.037398\n",
      "48   0.000000  1681.357812  3.034103    3.034103     1210.814687\n",
      "49   4.057677  2013.977183  3.443204    3.443204     1414.755189\n",
      "ipdb> Xi[:,1]\n",
      "*** TypeError: unhashable type: 'slice'\n",
      "ipdb> Xi[:,act]\n",
      "*** NameError: name 'act' is not defined\n",
      "ipdb> Xi[:,0]\n",
      "*** TypeError: unhashable type: 'slice'\n"
     ]
    }
   ],
   "source": [
    "fig = plt.figure(figsize=(10,10))\n",
    "for i, tar in enumerate(np.unique(y_train_smote)):\n",
    "    import ipdb;ipdb.set_trace()\n",
    "    Xi = x_train_smote[y_train_smote==tar]\n",
    "    \n",
    "    plt.scatter(Xi[:,1], Xi[:,2], label=tar)\n",
    "plt.xlabel('Petal length')\n",
    "plt.ylabel('Petal width')\n",
    "plt.legend()\n",
    "plt.show()"
   ]
  },
  {
   "cell_type": "code",
   "execution_count": 34,
   "metadata": {},
   "outputs": [
    {
     "data": {
      "text/plain": [
       "array([ True,  True,  True,  True, False, False,  True, False,  True,\n",
       "       False,  True,  True,  True, False,  True,  True,  True, False,\n",
       "        True, False,  True,  True, False,  True,  True, False,  True,\n",
       "       False,  True,  True, False, False,  True, False,  True,  True,\n",
       "       False, False, False,  True,  True, False, False, False, False,\n",
       "       False, False, False, False, False])"
      ]
     },
     "execution_count": 34,
     "metadata": {},
     "output_type": "execute_result"
    }
   ],
   "source": [
    "y_train_smote"
   ]
  },
  {
   "cell_type": "code",
   "execution_count": null,
   "metadata": {},
   "outputs": [],
   "source": []
  }
 ],
 "metadata": {
  "kernelspec": {
   "display_name": "Python 3",
   "language": "python",
   "name": "python3"
  },
  "language_info": {
   "codemirror_mode": {
    "name": "ipython",
    "version": 3
   },
   "file_extension": ".py",
   "mimetype": "text/x-python",
   "name": "python",
   "nbconvert_exporter": "python",
   "pygments_lexer": "ipython3",
   "version": "3.7.1"
  }
 },
 "nbformat": 4,
 "nbformat_minor": 2
}
