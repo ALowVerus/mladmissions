{
 "cells": [
  {
   "cell_type": "code",
   "execution_count": 1,
   "metadata": {},
   "outputs": [],
   "source": [
    "import numpy as np\n",
    "import pandas as pd\n",
    "import matplotlib.pyplot as plt\n",
    "import math\n",
    "import warnings\n",
    "import seaborn as sns\n",
    "import random\n",
    "\n",
    "from imblearn.over_sampling import SMOTE\n",
    "\n",
    "from sklearn.discriminant_analysis import LinearDiscriminantAnalysis, QuadraticDiscriminantAnalysis\n",
    "from sklearn.naive_bayes import GaussianNB\n",
    "from sklearn.ensemble import RandomForestClassifier\n",
    "from sklearn.gaussian_process import GaussianProcessClassifier\n",
    "from sklearn.gaussian_process.kernels import RBF\n",
    "\n",
    "warnings.filterwarnings(\"ignore\")\n",
    "%matplotlib inline"
   ]
  },
  {
   "cell_type": "markdown",
   "metadata": {},
   "source": [
    "### Read all CSV files"
   ]
  },
  {
   "cell_type": "code",
   "execution_count": 2,
   "metadata": {},
   "outputs": [],
   "source": [
    "dartmouth = pd.read_csv(\"dartmouth.csv\")\n",
    "colby = pd.read_csv(\"colby.csv\")\n",
    "northeastern = pd.read_csv(\"northeastern.csv\")\n",
    "princeton = pd.read_csv(\"princeton.csv\")\n",
    "columbia = pd.read_csv(\"columbia.csv\")\n",
    "harvard = pd.read_csv(\"harvard.csv\")"
   ]
  },
  {
   "cell_type": "code",
   "execution_count": 3,
   "metadata": {},
   "outputs": [
    {
     "data": {
      "text/html": [
       "<div>\n",
       "<style scoped>\n",
       "    .dataframe tbody tr th:only-of-type {\n",
       "        vertical-align: middle;\n",
       "    }\n",
       "\n",
       "    .dataframe tbody tr th {\n",
       "        vertical-align: top;\n",
       "    }\n",
       "\n",
       "    .dataframe thead th {\n",
       "        text-align: right;\n",
       "    }\n",
       "</style>\n",
       "<table border=\"1\" class=\"dataframe\">\n",
       "  <thead>\n",
       "    <tr style=\"text-align: right;\">\n",
       "      <th></th>\n",
       "      <th>type</th>\n",
       "      <th>act</th>\n",
       "      <th>sat2400</th>\n",
       "      <th>gpaWeighted</th>\n",
       "      <th>gpaCumulative</th>\n",
       "      <th>satConcorded</th>\n",
       "      <th>resultCode</th>\n",
       "    </tr>\n",
       "  </thead>\n",
       "  <tbody>\n",
       "    <tr>\n",
       "      <th>0</th>\n",
       "      <td>RD</td>\n",
       "      <td>21</td>\n",
       "      <td>1590</td>\n",
       "      <td>3.2844</td>\n",
       "      <td>3.1120</td>\n",
       "      <td>1150</td>\n",
       "      <td>1</td>\n",
       "    </tr>\n",
       "    <tr>\n",
       "      <th>1</th>\n",
       "      <td>RD</td>\n",
       "      <td>21</td>\n",
       "      <td>1590</td>\n",
       "      <td>3.2844</td>\n",
       "      <td>3.1120</td>\n",
       "      <td>1150</td>\n",
       "      <td>1</td>\n",
       "    </tr>\n",
       "    <tr>\n",
       "      <th>2</th>\n",
       "      <td>EA</td>\n",
       "      <td>0</td>\n",
       "      <td>2030</td>\n",
       "      <td>3.9161</td>\n",
       "      <td>3.9161</td>\n",
       "      <td>1430</td>\n",
       "      <td>1</td>\n",
       "    </tr>\n",
       "    <tr>\n",
       "      <th>3</th>\n",
       "      <td>EA</td>\n",
       "      <td>0</td>\n",
       "      <td>2080</td>\n",
       "      <td>4.0000</td>\n",
       "      <td>4.0000</td>\n",
       "      <td>1450</td>\n",
       "      <td>1</td>\n",
       "    </tr>\n",
       "    <tr>\n",
       "      <th>4</th>\n",
       "      <td>EA</td>\n",
       "      <td>0</td>\n",
       "      <td>1990</td>\n",
       "      <td>2.9241</td>\n",
       "      <td>2.9241</td>\n",
       "      <td>1400</td>\n",
       "      <td>2</td>\n",
       "    </tr>\n",
       "  </tbody>\n",
       "</table>\n",
       "</div>"
      ],
      "text/plain": [
       "  type  act  sat2400  gpaWeighted  gpaCumulative  satConcorded  resultCode\n",
       "0   RD   21     1590       3.2844         3.1120          1150           1\n",
       "1   RD   21     1590       3.2844         3.1120          1150           1\n",
       "2   EA    0     2030       3.9161         3.9161          1430           1\n",
       "3   EA    0     2080       4.0000         4.0000          1450           1\n",
       "4   EA    0     1990       2.9241         2.9241          1400           2"
      ]
     },
     "execution_count": 3,
     "metadata": {},
     "output_type": "execute_result"
    }
   ],
   "source": [
    "harvard.head()"
   ]
  },
  {
   "cell_type": "markdown",
   "metadata": {},
   "source": [
    "### Relabel target variables"
   ]
  },
  {
   "cell_type": "code",
   "execution_count": 4,
   "metadata": {},
   "outputs": [],
   "source": [
    "datasets = [dartmouth, colby, princeton, northeastern, columbia, harvard]\n",
    "def relabel_target(data):\n",
    "    data['resultCode']=data['resultCode'].apply(lambda x: False if x ==2 else True)\n",
    "    \n",
    "for x in datasets:\n",
    "    relabel_target(x)"
   ]
  },
  {
   "cell_type": "markdown",
   "metadata": {},
   "source": [
    "### Check for class imbalance"
   ]
  },
  {
   "cell_type": "code",
   "execution_count": 5,
   "metadata": {},
   "outputs": [
    {
     "data": {
      "image/png": "[encoded data removed]",
      "text/plain": [
       "<Figure size 1080x1080 with 6 Axes>"
      ]
     },
     "metadata": {
      "needs_background": "light"
     },
     "output_type": "display_data"
    }
   ],
   "source": [
    "f = plt.figure(figsize=(15,15))\n",
    "\n",
    "ax1=f.add_subplot(321)\n",
    "dartmouth['resultCode'].value_counts().plot(kind='bar', title=\"Dartmouth\" )\n",
    "\n",
    "\n",
    "f.add_subplot(322)\n",
    "colby['resultCode'].value_counts().plot(kind='bar', title=\"Colby\" )\n",
    "\n",
    "f.add_subplot(323)\n",
    "princeton['resultCode'].value_counts().plot(kind='bar', title=\"Princeton\" )\n",
    "\n",
    "f.add_subplot(324)\n",
    "northeastern['resultCode'].value_counts().plot(kind='bar', title=\"Northeastern\" )\n",
    "\n",
    "f.add_subplot(325)\n",
    "columbia['resultCode'].value_counts().plot(kind='bar', title=\"Columbia\" )\n",
    "\n",
    "f.add_subplot(326)\n",
    "harvard['resultCode'].value_counts().plot(kind='bar', title=\"Harvard\" )\n",
    "\n",
    "plt.show()"
   ]
  },
  {
   "cell_type": "markdown",
   "metadata": {},
   "source": [
    "### Check for class imbalance"
   ]
  },
  {
   "cell_type": "code",
   "execution_count": 6,
   "metadata": {},
   "outputs": [
    {
     "ename": "NameError",
     "evalue": "name 'data' is not defined",
     "output_type": "error",
     "traceback": [
      "\u001b[0;31m---------------------------------------------------------------------------\u001b[0m",
      "\u001b[0;31mNameError\u001b[0m                                 Traceback (most recent call last)",
      "\u001b[0;32m<ipython-input-6-05895bac4404>\u001b[0m in \u001b[0;36m<module>\u001b[0;34m\u001b[0m\n\u001b[0;32m----> 1\u001b[0;31m \u001b[0mcorrelation\u001b[0m\u001b[0;34m=\u001b[0m\u001b[0mdata\u001b[0m\u001b[0;34m.\u001b[0m\u001b[0mcorr\u001b[0m\u001b[0;34m(\u001b[0m\u001b[0;34m)\u001b[0m\u001b[0;34m\u001b[0m\u001b[0m\n\u001b[0m\u001b[1;32m      2\u001b[0m \u001b[0mplt\u001b[0m\u001b[0;34m.\u001b[0m\u001b[0mfigure\u001b[0m\u001b[0;34m(\u001b[0m\u001b[0mfigsize\u001b[0m\u001b[0;34m=\u001b[0m\u001b[0;34m(\u001b[0m\u001b[0;36m10\u001b[0m\u001b[0;34m,\u001b[0m\u001b[0;36m10\u001b[0m\u001b[0;34m)\u001b[0m\u001b[0;34m)\u001b[0m\u001b[0;34m\u001b[0m\u001b[0m\n\u001b[1;32m      3\u001b[0m \u001b[0msns\u001b[0m\u001b[0;34m.\u001b[0m\u001b[0mheatmap\u001b[0m\u001b[0;34m(\u001b[0m\u001b[0mcorrelation\u001b[0m\u001b[0;34m,\u001b[0m \u001b[0mxticklabels\u001b[0m\u001b[0;34m=\u001b[0m\u001b[0mcorrelation\u001b[0m\u001b[0;34m.\u001b[0m\u001b[0mcolumns\u001b[0m\u001b[0;34m.\u001b[0m\u001b[0mvalues\u001b[0m\u001b[0;34m,\u001b[0m \u001b[0myticklabels\u001b[0m\u001b[0;34m=\u001b[0m\u001b[0mcorrelation\u001b[0m\u001b[0;34m.\u001b[0m\u001b[0mcolumns\u001b[0m\u001b[0;34m.\u001b[0m\u001b[0mvalues\u001b[0m\u001b[0;34m)\u001b[0m\u001b[0;34m\u001b[0m\u001b[0m\n\u001b[1;32m      4\u001b[0m \u001b[0mplt\u001b[0m\u001b[0;34m.\u001b[0m\u001b[0mshow\u001b[0m\u001b[0;34m(\u001b[0m\u001b[0;34m)\u001b[0m\u001b[0;34m\u001b[0m\u001b[0m\n",
      "\u001b[0;31mNameError\u001b[0m: name 'data' is not defined"
     ]
    }
   ],
   "source": [
    "correlation=data.corr()\n",
    "plt.figure(figsize=(10,10))\n",
    "sns.heatmap(correlation, xticklabels=correlation.columns.values, yticklabels=correlation.columns.values)\n",
    "plt.show()"
   ]
  },
  {
   "cell_type": "markdown",
   "metadata": {},
   "source": [
    "### Define KNN for Smote(upsampling) and plot scatter plots"
   ]
  },
  {
   "cell_type": "code",
   "execution_count": 16,
   "metadata": {},
   "outputs": [],
   "source": [
    "def process_data(data, college):\n",
    "    \n",
    "    knn_constants={'dartmouth':4, 'colby':1, 'princeton':1, 'northeastern':1, 'columbia':5, 'harvard':5}\n",
    "    knn_cons = knn_constants.get(college)\n",
    "    \n",
    "    data = data.drop(data[data.sat2400 <= 0].index)\n",
    "    train_y = data.resultCode\n",
    "    train_x = pd.DataFrame(data.drop([\"resultCode\",\"act\" ,\"type\", \"gpaCumulative\", \"satConcorded\"], axis=1)).reset_index(drop=True)\n",
    "    \n",
    "    print(\"Before OverSampling, counts of label '1': {}\".format(sum(train_y==True)))\n",
    "    print(\"Before OverSampling, counts of label '0': {} \\n\".format(sum(train_y==False)))\n",
    "\n",
    "    sm = SMOTE(random_state=2, k_neighbors=knn_cons)\n",
    "    x_train_smote, y_train_smote = sm.fit_sample(train_x, train_y.ravel())\n",
    "\n",
    "    print('After OverSampling, the shape of train_X: {}'.format(x_train_smote.shape))\n",
    "    print('After OverSampling, the shape of train_y: {} \\n'.format(y_train_smote.shape))\n",
    "\n",
    "    print(\"After OverSampling, counts of label '1': {}\".format(sum(y_train_smote==True)))\n",
    "    print(\"After OverSampling, counts of label '0': {}\".format(sum(y_train_smote==False)))\n",
    "    \n",
    "    x_train_smote=pd.DataFrame(x_train_smote)\n",
    "    x_train_smote.columns =[ 'sats', 'gpa']\n",
    "    \n",
    "    \n",
    "    fig = plt.figure(figsize=(10,10))\n",
    "    for i, tar in enumerate(np.unique(y_train_smote)):\n",
    "        Xi = x_train_smote[y_train_smote==tar]\n",
    "        plt.scatter(Xi.iloc[:,0], Xi.iloc[:,1], label=tar)\n",
    "    plt.xlabel('Sat Score')\n",
    "    plt.ylabel('GPA')\n",
    "    plt.title(college.upper())\n",
    "    plt.legend()\n",
    "    plt.show()\n",
    "    \n",
    "    return (x_train_smote, y_train_smote)"
   ]
  },
  {
   "cell_type": "code",
   "execution_count": 17,
   "metadata": {},
   "outputs": [
    {
     "name": "stdout",
     "output_type": "stream",
     "text": [
      "Before OverSampling, counts of label '1': 9\n",
      "Before OverSampling, counts of label '0': 38 \n",
      "\n",
      "After OverSampling, the shape of train_X: (76, 2)\n",
      "After OverSampling, the shape of train_y: (76,) \n",
      "\n",
      "After OverSampling, counts of label '1': 38\n",
      "After OverSampling, counts of label '0': 38\n"
     ]
    },
    {
     "data": {
      "image/png": "[encoded data removed]",
      "text/plain": [
       "<Figure size 720x720 with 1 Axes>"
      ]
     },
     "metadata": {
      "needs_background": "light"
     },
     "output_type": "display_data"
    }
   ],
   "source": [
    "X_columbia, y_columbia = process_data(columbia, \"columbia\")"
   ]
  },
  {
   "cell_type": "code",
   "execution_count": 18,
   "metadata": {},
   "outputs": [
    {
     "name": "stdout",
     "output_type": "stream",
     "text": [
      "Before OverSampling, counts of label '1': 25\n",
      "Before OverSampling, counts of label '0': 16 \n",
      "\n",
      "After OverSampling, the shape of train_X: (50, 2)\n",
      "After OverSampling, the shape of train_y: (50,) \n",
      "\n",
      "After OverSampling, counts of label '1': 25\n",
      "After OverSampling, counts of label '0': 25\n"
     ]
    },
    {
     "data": {
      "image/png": "[encoded data removed]",
      "text/plain": [
       "<Figure size 720x720 with 1 Axes>"
      ]
     },
     "metadata": {
      "needs_background": "light"
     },
     "output_type": "display_data"
    }
   ],
   "source": [
    "X_harvard, y_harvard = process_data(harvard, \"harvard\")"
   ]
  },
  {
   "cell_type": "code",
   "execution_count": 19,
   "metadata": {},
   "outputs": [
    {
     "name": "stdout",
     "output_type": "stream",
     "text": [
      "Before OverSampling, counts of label '1': 2\n",
      "Before OverSampling, counts of label '0': 16 \n",
      "\n",
      "After OverSampling, the shape of train_X: (32, 2)\n",
      "After OverSampling, the shape of train_y: (32,) \n",
      "\n",
      "After OverSampling, counts of label '1': 16\n",
      "After OverSampling, counts of label '0': 16\n"
     ]
    },
    {
     "data": {
      "image/png": "[encoded data removed]",
      "text/plain": [
       "<Figure size 720x720 with 1 Axes>"
      ]
     },
     "metadata": {
      "needs_background": "light"
     },
     "output_type": "display_data"
    }
   ],
   "source": [
    "X_northeastern, y_northeastern = process_data(northeastern, \"northeastern\")"
   ]
  },
  {
   "cell_type": "code",
   "execution_count": 20,
   "metadata": {},
   "outputs": [
    {
     "name": "stdout",
     "output_type": "stream",
     "text": [
      "Before OverSampling, counts of label '1': 2\n",
      "Before OverSampling, counts of label '0': 4 \n",
      "\n",
      "After OverSampling, the shape of train_X: (8, 2)\n",
      "After OverSampling, the shape of train_y: (8,) \n",
      "\n",
      "After OverSampling, counts of label '1': 4\n",
      "After OverSampling, counts of label '0': 4\n"
     ]
    },
    {
     "data": {
      "image/png": "[encoded data removed]",
      "text/plain": [
       "<Figure size 720x720 with 1 Axes>"
      ]
     },
     "metadata": {
      "needs_background": "light"
     },
     "output_type": "display_data"
    }
   ],
   "source": [
    "X_colby, y_colby = process_data(colby, \"colby\")"
   ]
  },
  {
   "cell_type": "code",
   "execution_count": 21,
   "metadata": {},
   "outputs": [
    {
     "name": "stdout",
     "output_type": "stream",
     "text": [
      "Before OverSampling, counts of label '1': 5\n",
      "Before OverSampling, counts of label '0': 15 \n",
      "\n",
      "After OverSampling, the shape of train_X: (30, 2)\n",
      "After OverSampling, the shape of train_y: (30,) \n",
      "\n",
      "After OverSampling, counts of label '1': 15\n",
      "After OverSampling, counts of label '0': 15\n"
     ]
    },
    {
     "data": {
      "image/png": "[encoded data removed]",
      "text/plain": [
       "<Figure size 720x720 with 1 Axes>"
      ]
     },
     "metadata": {
      "needs_background": "light"
     },
     "output_type": "display_data"
    }
   ],
   "source": [
    "X_dartmouth, y_dartmouth = process_data(dartmouth, \"dartmouth\")"
   ]
  },
  {
   "cell_type": "code",
   "execution_count": 22,
   "metadata": {},
   "outputs": [
    {
     "name": "stdout",
     "output_type": "stream",
     "text": [
      "Before OverSampling, counts of label '1': 2\n",
      "Before OverSampling, counts of label '0': 31 \n",
      "\n",
      "After OverSampling, the shape of train_X: (62, 2)\n",
      "After OverSampling, the shape of train_y: (62,) \n",
      "\n",
      "After OverSampling, counts of label '1': 31\n",
      "After OverSampling, counts of label '0': 31\n"
     ]
    },
    {
     "data": {
      "image/png": "[encoded data removed]",
      "text/plain": [
       "<Figure size 720x720 with 1 Axes>"
      ]
     },
     "metadata": {
      "needs_background": "light"
     },
     "output_type": "display_data"
    }
   ],
   "source": [
    "X_princeton, y_princeton = process_data(princeton, \"princeton\")"
   ]
  },
  {
   "cell_type": "code",
   "execution_count": 23,
   "metadata": {},
   "outputs": [
    {
     "data": {
      "text/plain": [
       "0.7631578947368421"
      ]
     },
     "execution_count": 23,
     "metadata": {},
     "output_type": "execute_result"
    }
   ],
   "source": [
    "qda = QuadraticDiscriminantAnalysis()\n",
    "qda_model = qda.fit(X_columbia, y_columbia)\n",
    "qda_model.score(X_columbia, y_columbia)"
   ]
  },
  {
   "cell_type": "code",
   "execution_count": 24,
   "metadata": {},
   "outputs": [
    {
     "data": {
      "text/plain": [
       "array([[9.99766845e-01, 2.33154896e-04]])"
      ]
     },
     "execution_count": 24,
     "metadata": {},
     "output_type": "execute_result"
    }
   ],
   "source": [
    "qda_model.predict_proba([[1200, 3.5]])"
   ]
  },
  {
   "cell_type": "code",
   "execution_count": 25,
   "metadata": {},
   "outputs": [
    {
     "data": {
      "text/plain": [
       "0.75"
      ]
     },
     "execution_count": 25,
     "metadata": {},
     "output_type": "execute_result"
    }
   ],
   "source": [
    "kernel = 1.0 * RBF(0.5)\n",
    "gpc = GaussianProcessClassifier(kernel=kernel,random_state=1).fit(X_columbia, y_columbia)\n",
    "gpc.score(X_columbia, y_columbia)"
   ]
  },
  {
   "cell_type": "code",
   "execution_count": 26,
   "metadata": {},
   "outputs": [
    {
     "data": {
      "text/plain": [
       "0.7333333333333333"
      ]
     },
     "execution_count": 26,
     "metadata": {},
     "output_type": "execute_result"
    }
   ],
   "source": [
    "gnb = GaussianNB().fit(X_dartmouth, y_dartmouth)\n",
    "gnb.score(X_dartmouth, y_dartmouth)"
   ]
  },
  {
   "cell_type": "code",
   "execution_count": 27,
   "metadata": {},
   "outputs": [
    {
     "data": {
      "text/plain": [
       "array([[0.15446489, 0.84553511]])"
      ]
     },
     "execution_count": 27,
     "metadata": {},
     "output_type": "execute_result"
    }
   ],
   "source": [
    "gnb.predict_proba([[2100, 4.15]])"
   ]
  },
  {
   "cell_type": "code",
   "execution_count": 28,
   "metadata": {},
   "outputs": [
    {
     "data": {
      "text/plain": [
       "0.8947368421052632"
      ]
     },
     "execution_count": 28,
     "metadata": {},
     "output_type": "execute_result"
    }
   ],
   "source": [
    "rf = RandomForestClassifier(n_estimators=10, max_depth=3, random_state=0).fit(X_columbia, y_columbia)\n",
    "rf.score(X_columbia, y_columbia)"
   ]
  },
  {
   "cell_type": "code",
   "execution_count": 29,
   "metadata": {},
   "outputs": [
    {
     "data": {
      "text/plain": [
       "array([[0.60731313, 0.39268687]])"
      ]
     },
     "execution_count": 29,
     "metadata": {},
     "output_type": "execute_result"
    }
   ],
   "source": [
    "rf.predict_proba([[2100, 3.5]])"
   ]
  },
  {
   "cell_type": "code",
   "execution_count": 30,
   "metadata": {},
   "outputs": [],
   "source": [
    "def qda_predict(X,y):\n",
    "    \"\"\"\n",
    "    can be used for Harvard dataset\n",
    "    predictions:= qda_model.predict_proba([[1200, 3.5]])\n",
    "    \"\"\"\n",
    "    return QuadraticDiscriminantAnalysis().fit(X, y)"
   ]
  },
  {
   "cell_type": "code",
   "execution_count": 31,
   "metadata": {},
   "outputs": [],
   "source": [
    "def gaussian_nb(X,y):\n",
    "    \"\"\"\n",
    "    for northeastern and princeton\n",
    "    predictions := gnb.predict_proba([[2100, 4.15]])\n",
    "    \"\"\"\n",
    "    return GaussianNB().fit(X, y)"
   ]
  },
  {
   "cell_type": "code",
   "execution_count": 32,
   "metadata": {},
   "outputs": [],
   "source": [
    "def random_forest(X,y):\n",
    "    \"\"\"\n",
    "    for Dartmouth and columbia\n",
    "    predictions := rf.predict_proba([[2100, 3.5]])\n",
    "    \"\"\"\n",
    "    return RandomForestClassifier(n_estimators=10, max_depth=3, random_state=2).fit(X, y)"
   ]
  },
  {
   "cell_type": "code",
   "execution_count": null,
   "metadata": {},
   "outputs": [],
   "source": []
  }
 ],
 "metadata": {
  "kernelspec": {
   "display_name": "Python 3",
   "language": "python",
   "name": "python3"
  },
  "language_info": {
   "codemirror_mode": {
    "name": "ipython",
    "version": 3
   },
   "file_extension": ".py",
   "mimetype": "text/x-python",
   "name": "python",
   "nbconvert_exporter": "python",
   "pygments_lexer": "ipython3",
   "version": "3.5.2"
  }
 },
 "nbformat": 4,
 "nbformat_minor": 2
}
